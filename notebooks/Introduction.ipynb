{
 "cells": [
  {
   "cell_type": "code",
   "execution_count": 7,
   "metadata": {},
   "outputs": [],
   "source": [
    "from skdata.data import SkDataFrame\n",
    "from jupyterlab_skdata_renderer import SkDataDisplay\n",
    "\n",
    "import pandas as pd"
   ]
  },
  {
   "cell_type": "code",
   "execution_count": 8,
   "metadata": {},
   "outputs": [],
   "source": [
    "data = SkDataFrame(pd.DataFrame({\n",
    "    'a': [1, 2, 3],\n",
    "    'b': [6, 7, 8]\n",
    "}))"
   ]
  },
  {
   "cell_type": "code",
   "execution_count": 9,
   "metadata": {},
   "outputs": [
    {
     "data": {
      "text/plain": [
       "[('ac3d461984594b0daaef5b658a6bb176', '__add__(*(1,), **{})'),\n",
       " ('8d812cb66214467d8f4fdd06d8f0042f', '__mul__(*(10,), **{})'),\n",
       " ('c1bef7fc0a3140a9923cb7852648f1a1', '__sub__(*(4,), **{})'),\n",
       " ('e9802c8b5c174691b1554e6b42d25189', '__truediv__(*(0.02,), **{})')]"
      ]
     },
     "execution_count": 9,
     "metadata": {},
     "output_type": "execute_result"
    }
   ],
   "source": [
    "data = data + 1\n",
    "data = data * 10\n",
    "data = data - 4\n",
    "data = data / 0.02\n",
    "data.steps"
   ]
  },
  {
   "cell_type": "code",
   "execution_count": 12,
   "metadata": {},
   "outputs": [
    {
     "data": {
      "application/vnd.odsl.skdata+json": {
       "abc": 1234
      },
      "text/plain": [
       "<jupyterlab_skdata_renderer object>"
      ]
     },
     "metadata": {
      "application/vnd.odsl.skdata+json": {
       "expanded": false
      }
     },
     "output_type": "display_data"
    }
   ],
   "source": [
    "SkDataDisplay({'abc': 1234})"
   ]
  },
  {
   "cell_type": "code",
   "execution_count": 17,
   "metadata": {},
   "outputs": [
    {
     "data": {
      "application/vnd.odsl.skdata+json": {
       "steps": [
        [
         "3c767fd67a7b4bed88bdd9c88c724621",
         "__add__(*(1,), **{})"
        ],
        [
         "a6d1f276475d4c31adad05739c562dc8",
         "__mul__(*(10,), **{})"
        ],
        [
         "b69e966f3cfe4cb8a9030e422e81293c",
         "__sub__(*(4,), **{})"
        ],
        [
         "b742644afa9f4525b0894bfc3ec61d0d",
         "__truediv__(*(0.02,), **{})"
        ]
       ]
      },
      "text/plain": [
       "<jupyterlab_skdata_renderer object>"
      ]
     },
     "metadata": {
      "application/vnd.odsl.skdata+json": {
       "expanded": false
      }
     },
     "output_type": "display_data"
    }
   ],
   "source": [
    "data"
   ]
  }
 ],
 "metadata": {
  "kernelspec": {
   "display_name": "Python 3",
   "language": "python",
   "name": "python3"
  },
  "language_info": {
   "codemirror_mode": {
    "name": "ipython",
    "version": 3
   },
   "file_extension": ".py",
   "mimetype": "text/x-python",
   "name": "python",
   "nbconvert_exporter": "python",
   "pygments_lexer": "ipython3",
   "version": "3.6.4"
  }
 },
 "nbformat": 4,
 "nbformat_minor": 2
}
